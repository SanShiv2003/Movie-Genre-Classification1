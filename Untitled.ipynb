{
 "cells": [
  {
   "cell_type": "code",
   "execution_count": 1,
   "id": "86d1ab1d",
   "metadata": {},
   "outputs": [],
   "source": [
    "import pandas as pd"
   ]
  },
  {
   "cell_type": "code",
   "execution_count": 32,
   "id": "ce16da0e",
   "metadata": {},
   "outputs": [
    {
     "data": {
      "text/html": [
       "<div>\n",
       "<style scoped>\n",
       "    .dataframe tbody tr th:only-of-type {\n",
       "        vertical-align: middle;\n",
       "    }\n",
       "\n",
       "    .dataframe tbody tr th {\n",
       "        vertical-align: top;\n",
       "    }\n",
       "\n",
       "    .dataframe thead th {\n",
       "        text-align: right;\n",
       "    }\n",
       "</style>\n",
       "<table border=\"1\" class=\"dataframe\">\n",
       "  <thead>\n",
       "    <tr style=\"text-align: right;\">\n",
       "      <th></th>\n",
       "      <th>1 ::: Oscar et la dame rose (2009) ::: drama ::: Listening in to a conversation between his doctor and parents, 10-year-old Oscar learns what nobody has the courage to tell him. He only has a few weeks to live. Furious, he refuses to speak to anyone except straight-talking Rose, the lady in pink he meets on the hospital stairs. As Christmas approaches, Rose uses her fantastical experiences as a professional wrestler, her imagination, wit and charm to allow Oscar to live life and love to the full, in the company of his friends Pop Corn, Einstein, Bacon and childhood sweetheart Peggy Blue.</th>\n",
       "    </tr>\n",
       "  </thead>\n",
       "  <tbody>\n",
       "    <tr>\n",
       "      <th>0</th>\n",
       "      <td>2 ::: Cupid (1997) ::: thriller ::: A brother ...</td>\n",
       "    </tr>\n",
       "    <tr>\n",
       "      <th>1</th>\n",
       "      <td>3 ::: Young, Wild and Wonderful (1980) ::: adu...</td>\n",
       "    </tr>\n",
       "    <tr>\n",
       "      <th>2</th>\n",
       "      <td>4 ::: The Secret Sin (1915) ::: drama ::: To h...</td>\n",
       "    </tr>\n",
       "    <tr>\n",
       "      <th>3</th>\n",
       "      <td>5 ::: The Unrecovered (2007) ::: drama ::: The...</td>\n",
       "    </tr>\n",
       "    <tr>\n",
       "      <th>4</th>\n",
       "      <td>6 ::: Quality Control (2011) ::: documentary :...</td>\n",
       "    </tr>\n",
       "    <tr>\n",
       "      <th>...</th>\n",
       "      <td>...</td>\n",
       "    </tr>\n",
       "    <tr>\n",
       "      <th>54208</th>\n",
       "      <td>54210 ::: \"Bonino\" (1953) ::: comedy ::: This ...</td>\n",
       "    </tr>\n",
       "    <tr>\n",
       "      <th>54209</th>\n",
       "      <td>54211 ::: Dead Girls Don't Cry (????) ::: horr...</td>\n",
       "    </tr>\n",
       "    <tr>\n",
       "      <th>54210</th>\n",
       "      <td>54212 ::: Ronald Goedemondt: Ze bestaan echt (...</td>\n",
       "    </tr>\n",
       "    <tr>\n",
       "      <th>54211</th>\n",
       "      <td>54213 ::: Make Your Own Bed (1944) ::: comedy ...</td>\n",
       "    </tr>\n",
       "    <tr>\n",
       "      <th>54212</th>\n",
       "      <td>54214 ::: Nature's Fury: Storm of the Century ...</td>\n",
       "    </tr>\n",
       "  </tbody>\n",
       "</table>\n",
       "<p>54213 rows × 1 columns</p>\n",
       "</div>"
      ],
      "text/plain": [
       "      1 ::: Oscar et la dame rose (2009) ::: drama ::: Listening in to a conversation between his doctor and parents, 10-year-old Oscar learns what nobody has the courage to tell him. He only has a few weeks to live. Furious, he refuses to speak to anyone except straight-talking Rose, the lady in pink he meets on the hospital stairs. As Christmas approaches, Rose uses her fantastical experiences as a professional wrestler, her imagination, wit and charm to allow Oscar to live life and love to the full, in the company of his friends Pop Corn, Einstein, Bacon and childhood sweetheart Peggy Blue.\n",
       "0      2 ::: Cupid (1997) ::: thriller ::: A brother ...                                                                                                                                                                                                                                                                                                                                                                                                                                                                                                                                                                \n",
       "1      3 ::: Young, Wild and Wonderful (1980) ::: adu...                                                                                                                                                                                                                                                                                                                                                                                                                                                                                                                                                                \n",
       "2      4 ::: The Secret Sin (1915) ::: drama ::: To h...                                                                                                                                                                                                                                                                                                                                                                                                                                                                                                                                                                \n",
       "3      5 ::: The Unrecovered (2007) ::: drama ::: The...                                                                                                                                                                                                                                                                                                                                                                                                                                                                                                                                                                \n",
       "4      6 ::: Quality Control (2011) ::: documentary :...                                                                                                                                                                                                                                                                                                                                                                                                                                                                                                                                                                \n",
       "...                                                  ...                                                                                                                                                                                                                                                                                                                                                                                                                                                                                                                                                                \n",
       "54208  54210 ::: \"Bonino\" (1953) ::: comedy ::: This ...                                                                                                                                                                                                                                                                                                                                                                                                                                                                                                                                                                \n",
       "54209  54211 ::: Dead Girls Don't Cry (????) ::: horr...                                                                                                                                                                                                                                                                                                                                                                                                                                                                                                                                                                \n",
       "54210  54212 ::: Ronald Goedemondt: Ze bestaan echt (...                                                                                                                                                                                                                                                                                                                                                                                                                                                                                                                                                                \n",
       "54211  54213 ::: Make Your Own Bed (1944) ::: comedy ...                                                                                                                                                                                                                                                                                                                                                                                                                                                                                                                                                                \n",
       "54212  54214 ::: Nature's Fury: Storm of the Century ...                                                                                                                                                                                                                                                                                                                                                                                                                                                                                                                                                                \n",
       "\n",
       "[54213 rows x 1 columns]"
      ]
     },
     "execution_count": 32,
     "metadata": {},
     "output_type": "execute_result"
    }
   ],
   "source": [
    "df = pd.read_csv(r\"dataset\\train_data.txt\", delimiter=\"\\t\")\n",
    "data = pd.DataFrame(df)\n",
    "data"
   ]
  },
  {
   "cell_type": "code",
   "execution_count": 33,
   "id": "ee6aa17c",
   "metadata": {},
   "outputs": [
    {
     "name": "stdout",
     "output_type": "stream",
     "text": [
      "1 ::: Oscar et la dame rose (2009) ::: drama ::: Listening in to a conversation between his doctor and parents, 10-year-old Oscar learns what nobody has the courage to tell him. He only has a few weeks to live. Furious, he refuses to speak to anyone except straight-talking Rose, the lady in pink he meets on the hospital stairs. As Christmas approaches, Rose uses her fantastical experiences as a professional wrestler, her imagination, wit and charm to allow Oscar to live life and love to the full, in the company of his friends Pop Corn, Einstein, Bacon and childhood sweetheart Peggy Blue.\n",
      "2 ::: Cupid (1997) ::: thriller ::: A brother and sister with a past incestuous relationship have a current murderous relationship. He murders the women who reject him and she murders the women who get too close to him.\n",
      "3 ::: Young, Wild and Wonderful (1980) ::: adult ::: As the bus empties the students for their field trip to the Museum of Natural History, little does the tour guide suspect that the students are there for more than just another tour. First, during the lecture films, the coeds drift into dreams of the most erotic fantasies one can imagine. After the films, they release the emotion of the fantasies in the most erotic and uncommon ways. One slips off to the curator's office for a little \"acquisition. \" Another finds the anthropologist to see what bones can be identified. Even the head teacher isn't immune. Soon the tour is over, but as the bus departs, everyone admits it was quite an education.\n",
      "4 ::: The Secret Sin (1915) ::: drama ::: To help their unemployed father make ends meet, Edith and her twin sister Grace work as seamstresses . An invalid, Grace falls prey to the temptations of Chinatown opium and becomes an addict, a condition worsened by a misguided physician who prescribes morphine to ease her pain. When their father strikes oil, the family enjoys a new prosperity and the sisters meet the eligible Jack Herron, a fellow oil prospector. To Grace's shock, Jack falls in love with Edith and in her jealousy, Grace tells Jack that Edith, not she, has a drug problem. Hinting that her sister will soon need more morphine, Grace arranges for a dinner in Chinatown with the couple. While her sister and Jack dance, Grace slips away to an opium den. Edith follows her, but ends up in the wrong den and is arrested in an ensuing drug raid. After he bails her out of jail, Edith takes an angry Jack to search for Grace and stumbles across her half-conscious body lying in the street. The truth about the sisters is revealed, and after sending Grace to a sanitarium in the country, Jack and Edith are married.\n",
      "5 ::: The Unrecovered (2007) ::: drama ::: The film's title refers not only to the un-recovered bodies at ground zero, but also to the state of the nation at large. Set in the hallucinatory period of time between September 11 and Halloween of 2001, The Unrecovered examines the effect of terror on the average mind, the way a state of heightened anxiety and/or alertness can cause the average person to make the sort of imaginative connections that are normally made only by artists and conspiracy theorists-both of whom figure prominently in this film. The Unrecovered explores the way in which irony, empathy, and paranoia relate to one another in the wake of 9/11.\n"
     ]
    }
   ],
   "source": [
    "# Read and display the first few lines\n",
    "with open(r\"D:\\online dataset\\projects\\Genre Classification Dataset\\dataset\\train_data.txt\", \"r\", encoding=\"utf-8\") as file:\n",
    "    for i in range(5):  # Print first 5 lines\n",
    "        print(file.readline().strip())\n"
   ]
  },
  {
   "cell_type": "code",
   "execution_count": 34,
   "id": "cc496b7f",
   "metadata": {},
   "outputs": [
    {
     "data": {
      "text/html": [
       "<div>\n",
       "<style scoped>\n",
       "    .dataframe tbody tr th:only-of-type {\n",
       "        vertical-align: middle;\n",
       "    }\n",
       "\n",
       "    .dataframe tbody tr th {\n",
       "        vertical-align: top;\n",
       "    }\n",
       "\n",
       "    .dataframe thead th {\n",
       "        text-align: right;\n",
       "    }\n",
       "</style>\n",
       "<table border=\"1\" class=\"dataframe\">\n",
       "  <thead>\n",
       "    <tr style=\"text-align: right;\">\n",
       "      <th></th>\n",
       "      <th>Title</th>\n",
       "      <th>Genre</th>\n",
       "      <th>Plot</th>\n",
       "    </tr>\n",
       "  </thead>\n",
       "  <tbody>\n",
       "    <tr>\n",
       "      <th>0</th>\n",
       "      <td>Oscar et la dame rose (2009)</td>\n",
       "      <td>drama</td>\n",
       "      <td>Listening in to a conversation between his doc...</td>\n",
       "    </tr>\n",
       "    <tr>\n",
       "      <th>1</th>\n",
       "      <td>Cupid (1997)</td>\n",
       "      <td>thriller</td>\n",
       "      <td>A brother and sister with a past incestuous re...</td>\n",
       "    </tr>\n",
       "    <tr>\n",
       "      <th>2</th>\n",
       "      <td>Young, Wild and Wonderful (1980)</td>\n",
       "      <td>adult</td>\n",
       "      <td>As the bus empties the students for their fiel...</td>\n",
       "    </tr>\n",
       "    <tr>\n",
       "      <th>3</th>\n",
       "      <td>The Secret Sin (1915)</td>\n",
       "      <td>drama</td>\n",
       "      <td>To help their unemployed father make ends meet...</td>\n",
       "    </tr>\n",
       "    <tr>\n",
       "      <th>4</th>\n",
       "      <td>The Unrecovered (2007)</td>\n",
       "      <td>drama</td>\n",
       "      <td>The film's title refers not only to the un-rec...</td>\n",
       "    </tr>\n",
       "    <tr>\n",
       "      <th>...</th>\n",
       "      <td>...</td>\n",
       "      <td>...</td>\n",
       "      <td>...</td>\n",
       "    </tr>\n",
       "    <tr>\n",
       "      <th>54209</th>\n",
       "      <td>\"Bonino\" (1953)</td>\n",
       "      <td>comedy</td>\n",
       "      <td>This short-lived NBC live sitcom centered on B...</td>\n",
       "    </tr>\n",
       "    <tr>\n",
       "      <th>54210</th>\n",
       "      <td>Dead Girls Don't Cry (????)</td>\n",
       "      <td>horror</td>\n",
       "      <td>The NEXT Generation of EXPLOITATION. The siste...</td>\n",
       "    </tr>\n",
       "    <tr>\n",
       "      <th>54211</th>\n",
       "      <td>Ronald Goedemondt: Ze bestaan echt (2008)</td>\n",
       "      <td>documentary</td>\n",
       "      <td>Ze bestaan echt, is a stand-up comedy about gr...</td>\n",
       "    </tr>\n",
       "    <tr>\n",
       "      <th>54212</th>\n",
       "      <td>Make Your Own Bed (1944)</td>\n",
       "      <td>comedy</td>\n",
       "      <td>Walter and Vivian live in the country and have...</td>\n",
       "    </tr>\n",
       "    <tr>\n",
       "      <th>54213</th>\n",
       "      <td>Nature's Fury: Storm of the Century (2006)</td>\n",
       "      <td>history</td>\n",
       "      <td>On Labor Day Weekend, 1935, the most intense h...</td>\n",
       "    </tr>\n",
       "  </tbody>\n",
       "</table>\n",
       "<p>54214 rows × 3 columns</p>\n",
       "</div>"
      ],
      "text/plain": [
       "                                            Title        Genre  \\\n",
       "0                    Oscar et la dame rose (2009)        drama   \n",
       "1                                    Cupid (1997)     thriller   \n",
       "2                Young, Wild and Wonderful (1980)        adult   \n",
       "3                           The Secret Sin (1915)        drama   \n",
       "4                          The Unrecovered (2007)        drama   \n",
       "...                                           ...          ...   \n",
       "54209                             \"Bonino\" (1953)       comedy   \n",
       "54210                 Dead Girls Don't Cry (????)       horror   \n",
       "54211   Ronald Goedemondt: Ze bestaan echt (2008)  documentary   \n",
       "54212                    Make Your Own Bed (1944)       comedy   \n",
       "54213  Nature's Fury: Storm of the Century (2006)      history   \n",
       "\n",
       "                                                    Plot  \n",
       "0      Listening in to a conversation between his doc...  \n",
       "1      A brother and sister with a past incestuous re...  \n",
       "2      As the bus empties the students for their fiel...  \n",
       "3      To help their unemployed father make ends meet...  \n",
       "4      The film's title refers not only to the un-rec...  \n",
       "...                                                  ...  \n",
       "54209  This short-lived NBC live sitcom centered on B...  \n",
       "54210  The NEXT Generation of EXPLOITATION. The siste...  \n",
       "54211  Ze bestaan echt, is a stand-up comedy about gr...  \n",
       "54212  Walter and Vivian live in the country and have...  \n",
       "54213  On Labor Day Weekend, 1935, the most intense h...  \n",
       "\n",
       "[54214 rows x 3 columns]"
      ]
     },
     "execution_count": 34,
     "metadata": {},
     "output_type": "execute_result"
    }
   ],
   "source": [
    "import pandas as pd\n",
    "\n",
    "# Read the text file\n",
    "file_path = r\"D:\\online dataset\\projects\\Genre Classification Dataset\\dataset\\train_data.txt\"\n",
    "\n",
    "# Load data and split using ':::'\n",
    "data = []\n",
    "with open(file_path, \"r\", encoding=\"utf-8\") as file:\n",
    "    for line in file:\n",
    "        parts = line.strip().split(\" ::: \")  # Split the line by ':::'\n",
    "        if len(parts) == 4:  # Ensure the correct number of columns\n",
    "            index, title, genre, plot = parts\n",
    "            data.append([title, genre, plot])\n",
    "\n",
    "# Create a DataFrame\n",
    "df = pd.DataFrame(data, columns=[\"Title\", \"Genre\", \"Plot\"])\n",
    "\n",
    "# Display the first few rows\n",
    "df\n"
   ]
  },
  {
   "cell_type": "code",
   "execution_count": 35,
   "id": "474baf98",
   "metadata": {},
   "outputs": [
    {
     "name": "stdout",
     "output_type": "stream",
     "text": [
      "<class 'pandas.core.frame.DataFrame'>\n",
      "RangeIndex: 54214 entries, 0 to 54213\n",
      "Data columns (total 3 columns):\n",
      " #   Column  Non-Null Count  Dtype \n",
      "---  ------  --------------  ----- \n",
      " 0   Title   54214 non-null  object\n",
      " 1   Genre   54214 non-null  object\n",
      " 2   Plot    54214 non-null  object\n",
      "dtypes: object(3)\n",
      "memory usage: 1.2+ MB\n"
     ]
    }
   ],
   "source": [
    "df.info()"
   ]
  },
  {
   "cell_type": "code",
   "execution_count": 36,
   "id": "c8e3b819",
   "metadata": {},
   "outputs": [
    {
     "data": {
      "text/html": [
       "<div>\n",
       "<style scoped>\n",
       "    .dataframe tbody tr th:only-of-type {\n",
       "        vertical-align: middle;\n",
       "    }\n",
       "\n",
       "    .dataframe tbody tr th {\n",
       "        vertical-align: top;\n",
       "    }\n",
       "\n",
       "    .dataframe thead th {\n",
       "        text-align: right;\n",
       "    }\n",
       "</style>\n",
       "<table border=\"1\" class=\"dataframe\">\n",
       "  <thead>\n",
       "    <tr style=\"text-align: right;\">\n",
       "      <th></th>\n",
       "      <th>Title</th>\n",
       "      <th>Genre</th>\n",
       "      <th>Plot</th>\n",
       "    </tr>\n",
       "  </thead>\n",
       "  <tbody>\n",
       "    <tr>\n",
       "      <th>0</th>\n",
       "      <td>Oscar et la dame rose (2009)</td>\n",
       "      <td>drama</td>\n",
       "      <td>Listening in to a conversation between his doc...</td>\n",
       "    </tr>\n",
       "    <tr>\n",
       "      <th>1</th>\n",
       "      <td>Cupid (1997)</td>\n",
       "      <td>thriller</td>\n",
       "      <td>A brother and sister with a past incestuous re...</td>\n",
       "    </tr>\n",
       "    <tr>\n",
       "      <th>2</th>\n",
       "      <td>Young, Wild and Wonderful (1980)</td>\n",
       "      <td>adult</td>\n",
       "      <td>As the bus empties the students for their fiel...</td>\n",
       "    </tr>\n",
       "    <tr>\n",
       "      <th>3</th>\n",
       "      <td>The Secret Sin (1915)</td>\n",
       "      <td>drama</td>\n",
       "      <td>To help their unemployed father make ends meet...</td>\n",
       "    </tr>\n",
       "    <tr>\n",
       "      <th>4</th>\n",
       "      <td>The Unrecovered (2007)</td>\n",
       "      <td>drama</td>\n",
       "      <td>The film's title refers not only to the un-rec...</td>\n",
       "    </tr>\n",
       "  </tbody>\n",
       "</table>\n",
       "</div>"
      ],
      "text/plain": [
       "                              Title     Genre  \\\n",
       "0      Oscar et la dame rose (2009)     drama   \n",
       "1                      Cupid (1997)  thriller   \n",
       "2  Young, Wild and Wonderful (1980)     adult   \n",
       "3             The Secret Sin (1915)     drama   \n",
       "4            The Unrecovered (2007)     drama   \n",
       "\n",
       "                                                Plot  \n",
       "0  Listening in to a conversation between his doc...  \n",
       "1  A brother and sister with a past incestuous re...  \n",
       "2  As the bus empties the students for their fiel...  \n",
       "3  To help their unemployed father make ends meet...  \n",
       "4  The film's title refers not only to the un-rec...  "
      ]
     },
     "execution_count": 36,
     "metadata": {},
     "output_type": "execute_result"
    }
   ],
   "source": [
    "df.head()"
   ]
  },
  {
   "cell_type": "code",
   "execution_count": 37,
   "id": "66457cbb",
   "metadata": {},
   "outputs": [
    {
     "data": {
      "text/html": [
       "<div>\n",
       "<style scoped>\n",
       "    .dataframe tbody tr th:only-of-type {\n",
       "        vertical-align: middle;\n",
       "    }\n",
       "\n",
       "    .dataframe tbody tr th {\n",
       "        vertical-align: top;\n",
       "    }\n",
       "\n",
       "    .dataframe thead th {\n",
       "        text-align: right;\n",
       "    }\n",
       "</style>\n",
       "<table border=\"1\" class=\"dataframe\">\n",
       "  <thead>\n",
       "    <tr style=\"text-align: right;\">\n",
       "      <th></th>\n",
       "      <th>Title</th>\n",
       "      <th>Genre</th>\n",
       "      <th>Plot</th>\n",
       "    </tr>\n",
       "  </thead>\n",
       "  <tbody>\n",
       "    <tr>\n",
       "      <th>54209</th>\n",
       "      <td>\"Bonino\" (1953)</td>\n",
       "      <td>comedy</td>\n",
       "      <td>This short-lived NBC live sitcom centered on B...</td>\n",
       "    </tr>\n",
       "    <tr>\n",
       "      <th>54210</th>\n",
       "      <td>Dead Girls Don't Cry (????)</td>\n",
       "      <td>horror</td>\n",
       "      <td>The NEXT Generation of EXPLOITATION. The siste...</td>\n",
       "    </tr>\n",
       "    <tr>\n",
       "      <th>54211</th>\n",
       "      <td>Ronald Goedemondt: Ze bestaan echt (2008)</td>\n",
       "      <td>documentary</td>\n",
       "      <td>Ze bestaan echt, is a stand-up comedy about gr...</td>\n",
       "    </tr>\n",
       "    <tr>\n",
       "      <th>54212</th>\n",
       "      <td>Make Your Own Bed (1944)</td>\n",
       "      <td>comedy</td>\n",
       "      <td>Walter and Vivian live in the country and have...</td>\n",
       "    </tr>\n",
       "    <tr>\n",
       "      <th>54213</th>\n",
       "      <td>Nature's Fury: Storm of the Century (2006)</td>\n",
       "      <td>history</td>\n",
       "      <td>On Labor Day Weekend, 1935, the most intense h...</td>\n",
       "    </tr>\n",
       "  </tbody>\n",
       "</table>\n",
       "</div>"
      ],
      "text/plain": [
       "                                            Title        Genre  \\\n",
       "54209                             \"Bonino\" (1953)       comedy   \n",
       "54210                 Dead Girls Don't Cry (????)       horror   \n",
       "54211   Ronald Goedemondt: Ze bestaan echt (2008)  documentary   \n",
       "54212                    Make Your Own Bed (1944)       comedy   \n",
       "54213  Nature's Fury: Storm of the Century (2006)      history   \n",
       "\n",
       "                                                    Plot  \n",
       "54209  This short-lived NBC live sitcom centered on B...  \n",
       "54210  The NEXT Generation of EXPLOITATION. The siste...  \n",
       "54211  Ze bestaan echt, is a stand-up comedy about gr...  \n",
       "54212  Walter and Vivian live in the country and have...  \n",
       "54213  On Labor Day Weekend, 1935, the most intense h...  "
      ]
     },
     "execution_count": 37,
     "metadata": {},
     "output_type": "execute_result"
    }
   ],
   "source": [
    "df.tail()"
   ]
  },
  {
   "cell_type": "code",
   "execution_count": 38,
   "id": "19f675c4",
   "metadata": {},
   "outputs": [
    {
     "data": {
      "text/plain": [
       "(54214, 3)"
      ]
     },
     "execution_count": 38,
     "metadata": {},
     "output_type": "execute_result"
    }
   ],
   "source": [
    "df.shape"
   ]
  },
  {
   "cell_type": "code",
   "execution_count": 39,
   "id": "07f6dc7c",
   "metadata": {},
   "outputs": [
    {
     "data": {
      "text/plain": [
       "162642"
      ]
     },
     "execution_count": 39,
     "metadata": {},
     "output_type": "execute_result"
    }
   ],
   "source": [
    "df.size"
   ]
  },
  {
   "cell_type": "code",
   "execution_count": 40,
   "id": "3ee65e31",
   "metadata": {},
   "outputs": [
    {
     "data": {
      "text/html": [
       "<div>\n",
       "<style scoped>\n",
       "    .dataframe tbody tr th:only-of-type {\n",
       "        vertical-align: middle;\n",
       "    }\n",
       "\n",
       "    .dataframe tbody tr th {\n",
       "        vertical-align: top;\n",
       "    }\n",
       "\n",
       "    .dataframe thead th {\n",
       "        text-align: right;\n",
       "    }\n",
       "</style>\n",
       "<table border=\"1\" class=\"dataframe\">\n",
       "  <thead>\n",
       "    <tr style=\"text-align: right;\">\n",
       "      <th></th>\n",
       "      <th>Title</th>\n",
       "      <th>Genre</th>\n",
       "      <th>Plot</th>\n",
       "    </tr>\n",
       "  </thead>\n",
       "  <tbody>\n",
       "    <tr>\n",
       "      <th>count</th>\n",
       "      <td>54214</td>\n",
       "      <td>54214</td>\n",
       "      <td>54214</td>\n",
       "    </tr>\n",
       "    <tr>\n",
       "      <th>unique</th>\n",
       "      <td>54214</td>\n",
       "      <td>27</td>\n",
       "      <td>54086</td>\n",
       "    </tr>\n",
       "    <tr>\n",
       "      <th>top</th>\n",
       "      <td>Oscar et la dame rose (2009)</td>\n",
       "      <td>drama</td>\n",
       "      <td>Grammy - music award of the American academy o...</td>\n",
       "    </tr>\n",
       "    <tr>\n",
       "      <th>freq</th>\n",
       "      <td>1</td>\n",
       "      <td>13613</td>\n",
       "      <td>12</td>\n",
       "    </tr>\n",
       "  </tbody>\n",
       "</table>\n",
       "</div>"
      ],
      "text/plain": [
       "                               Title  Genre  \\\n",
       "count                          54214  54214   \n",
       "unique                         54214     27   \n",
       "top     Oscar et la dame rose (2009)  drama   \n",
       "freq                               1  13613   \n",
       "\n",
       "                                                     Plot  \n",
       "count                                               54214  \n",
       "unique                                              54086  \n",
       "top     Grammy - music award of the American academy o...  \n",
       "freq                                                   12  "
      ]
     },
     "execution_count": 40,
     "metadata": {},
     "output_type": "execute_result"
    }
   ],
   "source": [
    "df.describe()"
   ]
  },
  {
   "cell_type": "code",
   "execution_count": 41,
   "id": "7fdddce2",
   "metadata": {},
   "outputs": [
    {
     "data": {
      "text/plain": [
       "Title    0\n",
       "Genre    0\n",
       "Plot     0\n",
       "dtype: int64"
      ]
     },
     "execution_count": 41,
     "metadata": {},
     "output_type": "execute_result"
    }
   ],
   "source": [
    "df.isnull().sum()"
   ]
  },
  {
   "cell_type": "code",
   "execution_count": 42,
   "id": "6e507a3b",
   "metadata": {},
   "outputs": [
    {
     "data": {
      "text/plain": [
       "Index(['Title', 'Genre', 'Plot'], dtype='object')"
      ]
     },
     "execution_count": 42,
     "metadata": {},
     "output_type": "execute_result"
    }
   ],
   "source": [
    "df.columns"
   ]
  },
  {
   "cell_type": "code",
   "execution_count": 43,
   "id": "ad3467b7",
   "metadata": {},
   "outputs": [
    {
     "data": {
      "text/plain": [
       "array(['drama', 'thriller', 'adult', 'documentary', 'comedy', 'crime',\n",
       "       'reality-tv', 'horror', 'sport', 'animation', 'action', 'fantasy',\n",
       "       'short', 'sci-fi', 'music', 'adventure', 'talk-show', 'western',\n",
       "       'family', 'mystery', 'history', 'news', 'biography', 'romance',\n",
       "       'game-show', 'musical', 'war'], dtype=object)"
      ]
     },
     "execution_count": 43,
     "metadata": {},
     "output_type": "execute_result"
    }
   ],
   "source": [
    "df.Genre.unique()"
   ]
  },
  {
   "cell_type": "code",
   "execution_count": 44,
   "id": "b1642be0",
   "metadata": {},
   "outputs": [
    {
     "data": {
      "text/html": [
       "<div>\n",
       "<style scoped>\n",
       "    .dataframe tbody tr th:only-of-type {\n",
       "        vertical-align: middle;\n",
       "    }\n",
       "\n",
       "    .dataframe tbody tr th {\n",
       "        vertical-align: top;\n",
       "    }\n",
       "\n",
       "    .dataframe thead th {\n",
       "        text-align: right;\n",
       "    }\n",
       "</style>\n",
       "<table border=\"1\" class=\"dataframe\">\n",
       "  <thead>\n",
       "    <tr style=\"text-align: right;\">\n",
       "      <th></th>\n",
       "      <th>Title</th>\n",
       "      <th>Genre</th>\n",
       "      <th>Plot</th>\n",
       "    </tr>\n",
       "  </thead>\n",
       "  <tbody>\n",
       "    <tr>\n",
       "      <th>0</th>\n",
       "      <td>Oscar et la dame rose (2009)</td>\n",
       "      <td>drama</td>\n",
       "      <td>listening in to a conversation between his doc...</td>\n",
       "    </tr>\n",
       "    <tr>\n",
       "      <th>1</th>\n",
       "      <td>Cupid (1997)</td>\n",
       "      <td>thriller</td>\n",
       "      <td>a brother and sister with a past incestuous re...</td>\n",
       "    </tr>\n",
       "    <tr>\n",
       "      <th>2</th>\n",
       "      <td>Young, Wild and Wonderful (1980)</td>\n",
       "      <td>adult</td>\n",
       "      <td>as the bus empties the students for their fiel...</td>\n",
       "    </tr>\n",
       "    <tr>\n",
       "      <th>3</th>\n",
       "      <td>The Secret Sin (1915)</td>\n",
       "      <td>drama</td>\n",
       "      <td>to help their unemployed father make ends meet...</td>\n",
       "    </tr>\n",
       "    <tr>\n",
       "      <th>4</th>\n",
       "      <td>The Unrecovered (2007)</td>\n",
       "      <td>drama</td>\n",
       "      <td>the films title refers not only to the unrecov...</td>\n",
       "    </tr>\n",
       "    <tr>\n",
       "      <th>...</th>\n",
       "      <td>...</td>\n",
       "      <td>...</td>\n",
       "      <td>...</td>\n",
       "    </tr>\n",
       "    <tr>\n",
       "      <th>54209</th>\n",
       "      <td>\"Bonino\" (1953)</td>\n",
       "      <td>comedy</td>\n",
       "      <td>this shortlived nbc live sitcom centered on bo...</td>\n",
       "    </tr>\n",
       "    <tr>\n",
       "      <th>54210</th>\n",
       "      <td>Dead Girls Don't Cry (????)</td>\n",
       "      <td>horror</td>\n",
       "      <td>the next generation of exploitation the sister...</td>\n",
       "    </tr>\n",
       "    <tr>\n",
       "      <th>54211</th>\n",
       "      <td>Ronald Goedemondt: Ze bestaan echt (2008)</td>\n",
       "      <td>documentary</td>\n",
       "      <td>ze bestaan echt is a standup comedy about grow...</td>\n",
       "    </tr>\n",
       "    <tr>\n",
       "      <th>54212</th>\n",
       "      <td>Make Your Own Bed (1944)</td>\n",
       "      <td>comedy</td>\n",
       "      <td>walter and vivian live in the country and have...</td>\n",
       "    </tr>\n",
       "    <tr>\n",
       "      <th>54213</th>\n",
       "      <td>Nature's Fury: Storm of the Century (2006)</td>\n",
       "      <td>history</td>\n",
       "      <td>on labor day weekend 1935 the most intense hur...</td>\n",
       "    </tr>\n",
       "  </tbody>\n",
       "</table>\n",
       "<p>54214 rows × 3 columns</p>\n",
       "</div>"
      ],
      "text/plain": [
       "                                            Title        Genre  \\\n",
       "0                    Oscar et la dame rose (2009)        drama   \n",
       "1                                    Cupid (1997)     thriller   \n",
       "2                Young, Wild and Wonderful (1980)        adult   \n",
       "3                           The Secret Sin (1915)        drama   \n",
       "4                          The Unrecovered (2007)        drama   \n",
       "...                                           ...          ...   \n",
       "54209                             \"Bonino\" (1953)       comedy   \n",
       "54210                 Dead Girls Don't Cry (????)       horror   \n",
       "54211   Ronald Goedemondt: Ze bestaan echt (2008)  documentary   \n",
       "54212                    Make Your Own Bed (1944)       comedy   \n",
       "54213  Nature's Fury: Storm of the Century (2006)      history   \n",
       "\n",
       "                                                    Plot  \n",
       "0      listening in to a conversation between his doc...  \n",
       "1      a brother and sister with a past incestuous re...  \n",
       "2      as the bus empties the students for their fiel...  \n",
       "3      to help their unemployed father make ends meet...  \n",
       "4      the films title refers not only to the unrecov...  \n",
       "...                                                  ...  \n",
       "54209  this shortlived nbc live sitcom centered on bo...  \n",
       "54210  the next generation of exploitation the sister...  \n",
       "54211  ze bestaan echt is a standup comedy about grow...  \n",
       "54212  walter and vivian live in the country and have...  \n",
       "54213  on labor day weekend 1935 the most intense hur...  \n",
       "\n",
       "[54214 rows x 3 columns]"
      ]
     },
     "execution_count": 44,
     "metadata": {},
     "output_type": "execute_result"
    }
   ],
   "source": [
    "import re\n",
    "\n",
    "# Function to clean text\n",
    "def clean_text(text):\n",
    "    text = text.lower()  # Convert to lowercase\n",
    "    text = re.sub(r\"[^\\w\\s]\", \"\", text)  # Remove punctuation\n",
    "    text = re.sub(r\"\\s+\", \" \", text).strip()  # Remove extra spaces\n",
    "    return text\n",
    "\n",
    "# Apply cleaning\n",
    "df[\"Plot\"] = df[\"Plot\"].apply(clean_text)\n",
    "\n",
    "# Display cleaned data\n",
    "df\n"
   ]
  },
  {
   "cell_type": "code",
   "execution_count": 45,
   "id": "ac49a618",
   "metadata": {},
   "outputs": [],
   "source": [
    "from sklearn.feature_extraction.text import TfidfVectorizer\n",
    "\n",
    "# Initialize TF-IDF vectorizer\n",
    "tfidf_vectorizer = TfidfVectorizer(max_features=5000)  # Limit to 5000 features for efficiency\n",
    "\n",
    "# Transform the plot descriptions into numerical vectors\n",
    "X = tfidf_vectorizer.fit_transform(df[\"Plot\"])\n",
    "\n",
    "# Convert genres into labels\n",
    "y = df[\"Genre\"]\n"
   ]
  },
  {
   "cell_type": "code",
   "execution_count": 46,
   "id": "10df62aa",
   "metadata": {},
   "outputs": [
    {
     "data": {
      "text/plain": [
       "0              drama\n",
       "1           thriller\n",
       "2              adult\n",
       "3              drama\n",
       "4              drama\n",
       "            ...     \n",
       "54209         comedy\n",
       "54210         horror\n",
       "54211    documentary\n",
       "54212         comedy\n",
       "54213        history\n",
       "Name: Genre, Length: 54214, dtype: object"
      ]
     },
     "execution_count": 46,
     "metadata": {},
     "output_type": "execute_result"
    }
   ],
   "source": [
    "y"
   ]
  },
  {
   "cell_type": "code",
   "execution_count": 47,
   "id": "b22e932c",
   "metadata": {},
   "outputs": [
    {
     "name": "stdout",
     "output_type": "stream",
     "text": [
      "Genre Mapping: {'action': 0, 'adult': 1, 'adventure': 2, 'animation': 3, 'biography': 4, 'comedy': 5, 'crime': 6, 'documentary': 7, 'drama': 8, 'family': 9, 'fantasy': 10, 'game-show': 11, 'history': 12, 'horror': 13, 'music': 14, 'musical': 15, 'mystery': 16, 'news': 17, 'reality-tv': 18, 'romance': 19, 'sci-fi': 20, 'short': 21, 'sport': 22, 'talk-show': 23, 'thriller': 24, 'war': 25, 'western': 26}\n"
     ]
    }
   ],
   "source": [
    "from sklearn.preprocessing import LabelEncoder\n",
    "\n",
    "# Initialize LabelEncoder\n",
    "label_encoder = LabelEncoder()\n",
    "\n",
    "# Encode the Genre column\n",
    "df[\"Genre_encoded\"] = label_encoder.fit_transform(df[\"Genre\"])\n",
    "\n",
    "# Check the mapping\n",
    "genre_mapping = dict(zip(label_encoder.classes_, label_encoder.transform(label_encoder.classes_)))\n",
    "print(\"Genre Mapping:\", genre_mapping)\n",
    "\n",
    "# Define X and y\n",
    "X = df[\"Plot\"]  # Text data (requires NLP techniques)\n",
    "y = df[\"Genre_encoded\"]  # Encoded labels\n"
   ]
  },
  {
   "cell_type": "code",
   "execution_count": 48,
   "id": "0dc707c5",
   "metadata": {},
   "outputs": [
    {
     "data": {
      "text/plain": [
       "0        listening in to a conversation between his doc...\n",
       "1        a brother and sister with a past incestuous re...\n",
       "2        as the bus empties the students for their fiel...\n",
       "3        to help their unemployed father make ends meet...\n",
       "4        the films title refers not only to the unrecov...\n",
       "                               ...                        \n",
       "54209    this shortlived nbc live sitcom centered on bo...\n",
       "54210    the next generation of exploitation the sister...\n",
       "54211    ze bestaan echt is a standup comedy about grow...\n",
       "54212    walter and vivian live in the country and have...\n",
       "54213    on labor day weekend 1935 the most intense hur...\n",
       "Name: Plot, Length: 54214, dtype: object"
      ]
     },
     "execution_count": 48,
     "metadata": {},
     "output_type": "execute_result"
    }
   ],
   "source": [
    "X"
   ]
  },
  {
   "cell_type": "code",
   "execution_count": 49,
   "id": "b3af0a0a",
   "metadata": {},
   "outputs": [
    {
     "data": {
      "text/plain": [
       "0         8\n",
       "1        24\n",
       "2         1\n",
       "3         8\n",
       "4         8\n",
       "         ..\n",
       "54209     5\n",
       "54210    13\n",
       "54211     7\n",
       "54212     5\n",
       "54213    12\n",
       "Name: Genre_encoded, Length: 54214, dtype: int32"
      ]
     },
     "execution_count": 49,
     "metadata": {},
     "output_type": "execute_result"
    }
   ],
   "source": [
    "y"
   ]
  },
  {
   "cell_type": "code",
   "execution_count": 50,
   "id": "e343691e",
   "metadata": {},
   "outputs": [
    {
     "name": "stdout",
     "output_type": "stream",
     "text": [
      "Training data size: (43371,)\n",
      "Testing data size: (10843,)\n"
     ]
    }
   ],
   "source": [
    "from sklearn.model_selection import train_test_split\n",
    "\n",
    "# Split the dataset (80% training, 20% testing)\n",
    "X_train, X_test, y_train, y_test = train_test_split(X, y, test_size=0.2, random_state=42)\n",
    "\n",
    "print(f\"Training data size: {X_train.shape}\")\n",
    "print(f\"Testing data size: {X_test.shape}\")\n"
   ]
  },
  {
   "cell_type": "code",
   "execution_count": 51,
   "id": "e9b9605d",
   "metadata": {},
   "outputs": [],
   "source": [
    "from sklearn.feature_extraction.text import TfidfVectorizer\n",
    "\n",
    "tfidf_vectorizer = TfidfVectorizer()\n",
    "X_train_tfidf = tfidf_vectorizer.fit_transform(X_train)  # Fit on training data\n",
    "X_test_tfidf = tfidf_vectorizer.transform(X_test)        # Transform test data\n"
   ]
  },
  {
   "cell_type": "code",
   "execution_count": 52,
   "id": "27a77c6f",
   "metadata": {},
   "outputs": [
    {
     "name": "stdout",
     "output_type": "stream",
     "text": [
      "Accuracy: 0.4448030987734022\n",
      "Classification Report:\n",
      "               precision    recall  f1-score   support\n",
      "\n",
      "           0       0.00      0.00      0.00       263\n",
      "           1       0.00      0.00      0.00       112\n",
      "           2       0.00      0.00      0.00       139\n",
      "           3       0.00      0.00      0.00       104\n",
      "           4       0.00      0.00      0.00        61\n",
      "           5       0.67      0.03      0.05      1443\n",
      "           6       0.00      0.00      0.00       107\n",
      "           7       0.54      0.90      0.67      2659\n",
      "           8       0.38      0.89      0.53      2697\n",
      "           9       0.00      0.00      0.00       150\n",
      "          10       0.00      0.00      0.00        74\n",
      "          11       0.00      0.00      0.00        40\n",
      "          12       0.00      0.00      0.00        45\n",
      "          13       0.00      0.00      0.00       431\n",
      "          14       0.00      0.00      0.00       144\n",
      "          15       0.00      0.00      0.00        50\n",
      "          16       0.00      0.00      0.00        56\n",
      "          17       0.00      0.00      0.00        34\n",
      "          18       0.00      0.00      0.00       192\n",
      "          19       0.00      0.00      0.00       151\n",
      "          20       0.00      0.00      0.00       143\n",
      "          21       0.00      0.00      0.00      1045\n",
      "          22       0.00      0.00      0.00        93\n",
      "          23       0.00      0.00      0.00        81\n",
      "          24       0.00      0.00      0.00       309\n",
      "          25       0.00      0.00      0.00        20\n",
      "          26       0.00      0.00      0.00       200\n",
      "\n",
      "    accuracy                           0.44     10843\n",
      "   macro avg       0.06      0.07      0.05     10843\n",
      "weighted avg       0.32      0.44      0.30     10843\n",
      "\n"
     ]
    },
    {
     "name": "stderr",
     "output_type": "stream",
     "text": [
      "c:\\users\\ramav\\appdata\\local\\programs\\python\\python37\\lib\\site-packages\\sklearn\\metrics\\_classification.py:1318: UndefinedMetricWarning: Precision and F-score are ill-defined and being set to 0.0 in labels with no predicted samples. Use `zero_division` parameter to control this behavior.\n",
      "  _warn_prf(average, modifier, msg_start, len(result))\n",
      "c:\\users\\ramav\\appdata\\local\\programs\\python\\python37\\lib\\site-packages\\sklearn\\metrics\\_classification.py:1318: UndefinedMetricWarning: Precision and F-score are ill-defined and being set to 0.0 in labels with no predicted samples. Use `zero_division` parameter to control this behavior.\n",
      "  _warn_prf(average, modifier, msg_start, len(result))\n",
      "c:\\users\\ramav\\appdata\\local\\programs\\python\\python37\\lib\\site-packages\\sklearn\\metrics\\_classification.py:1318: UndefinedMetricWarning: Precision and F-score are ill-defined and being set to 0.0 in labels with no predicted samples. Use `zero_division` parameter to control this behavior.\n",
      "  _warn_prf(average, modifier, msg_start, len(result))\n"
     ]
    }
   ],
   "source": [
    "from sklearn.naive_bayes import MultinomialNB\n",
    "from sklearn.metrics import accuracy_score, classification_report\n",
    "\n",
    "# Initialize and train Naïve Bayes model\n",
    "nb_model = MultinomialNB()\n",
    "nb_model.fit(X_train_tfidf, y_train)\n",
    "\n",
    "# Make predictions\n",
    "y_pred = nb_model.predict(X_test_tfidf)\n",
    "\n",
    "# Evaluate the model\n",
    "print(\"Accuracy:\", accuracy_score(y_test, y_pred))\n",
    "print(\"Classification Report:\\n\", classification_report(y_test, y_pred))\n"
   ]
  },
  {
   "cell_type": "code",
   "execution_count": 55,
   "id": "50a6f360",
   "metadata": {},
   "outputs": [
    {
     "name": "stdout",
     "output_type": "stream",
     "text": [
      "Accuracy: 0.5859079590519229\n",
      "Classification Report:\n",
      "               precision    recall  f1-score   support\n",
      "\n",
      "           0       0.59      0.22      0.33       263\n",
      "           1       0.95      0.17      0.29       112\n",
      "           2       0.45      0.11      0.17       139\n",
      "           3       0.50      0.01      0.02       104\n",
      "           4       0.00      0.00      0.00        61\n",
      "           5       0.53      0.59      0.56      1443\n",
      "           6       0.33      0.01      0.02       107\n",
      "           7       0.65      0.88      0.75      2659\n",
      "           8       0.54      0.80      0.64      2697\n",
      "           9       0.60      0.06      0.11       150\n",
      "          10       0.00      0.00      0.00        74\n",
      "          11       1.00      0.30      0.46        40\n",
      "          12       0.00      0.00      0.00        45\n",
      "          13       0.67      0.56      0.61       431\n",
      "          14       0.67      0.44      0.53       144\n",
      "          15       0.00      0.00      0.00        50\n",
      "          16       0.00      0.00      0.00        56\n",
      "          17       0.00      0.00      0.00        34\n",
      "          18       0.49      0.16      0.24       192\n",
      "          19       0.33      0.01      0.01       151\n",
      "          20       0.52      0.15      0.24       143\n",
      "          21       0.55      0.32      0.40      1045\n",
      "          22       0.70      0.17      0.28        93\n",
      "          23       0.62      0.10      0.17        81\n",
      "          24       0.43      0.11      0.17       309\n",
      "          25       0.00      0.00      0.00        20\n",
      "          26       0.95      0.69      0.80       200\n",
      "\n",
      "    accuracy                           0.59     10843\n",
      "   macro avg       0.45      0.22      0.25     10843\n",
      "weighted avg       0.56      0.59      0.54     10843\n",
      "\n"
     ]
    },
    {
     "name": "stderr",
     "output_type": "stream",
     "text": [
      "c:\\users\\ramav\\appdata\\local\\programs\\python\\python37\\lib\\site-packages\\sklearn\\metrics\\_classification.py:1318: UndefinedMetricWarning: Precision and F-score are ill-defined and being set to 0.0 in labels with no predicted samples. Use `zero_division` parameter to control this behavior.\n",
      "  _warn_prf(average, modifier, msg_start, len(result))\n",
      "c:\\users\\ramav\\appdata\\local\\programs\\python\\python37\\lib\\site-packages\\sklearn\\metrics\\_classification.py:1318: UndefinedMetricWarning: Precision and F-score are ill-defined and being set to 0.0 in labels with no predicted samples. Use `zero_division` parameter to control this behavior.\n",
      "  _warn_prf(average, modifier, msg_start, len(result))\n",
      "c:\\users\\ramav\\appdata\\local\\programs\\python\\python37\\lib\\site-packages\\sklearn\\metrics\\_classification.py:1318: UndefinedMetricWarning: Precision and F-score are ill-defined and being set to 0.0 in labels with no predicted samples. Use `zero_division` parameter to control this behavior.\n",
      "  _warn_prf(average, modifier, msg_start, len(result))\n"
     ]
    }
   ],
   "source": [
    "from sklearn.linear_model import LogisticRegression\n",
    "from sklearn.metrics import accuracy_score, classification_report\n",
    "\n",
    "# Initialize and train Logistic Regression model\n",
    "log_reg = LogisticRegression(max_iter=500)\n",
    "log_reg.fit(X_train_tfidf, y_train)\n",
    "\n",
    "# Make predictions\n",
    "y_pred = log_reg.predict(X_test_tfidf)\n",
    "\n",
    "# Evaluate the model\n",
    "print(\"Accuracy:\", accuracy_score(y_test, y_pred))\n",
    "print(\"Classification Report:\\n\", classification_report(y_test, y_pred))\n"
   ]
  },
  {
   "cell_type": "code",
   "execution_count": 56,
   "id": "05c2b690",
   "metadata": {},
   "outputs": [
    {
     "name": "stdout",
     "output_type": "stream",
     "text": [
      "Accuracy: 0.33911279166282393\n",
      "Classification Report:\n",
      "               precision    recall  f1-score   support\n",
      "\n",
      "           0       0.08      0.06      0.07       263\n",
      "           1       0.13      0.11      0.12       112\n",
      "           2       0.10      0.09      0.09       139\n",
      "           3       0.01      0.01      0.01       104\n",
      "           4       0.00      0.00      0.00        61\n",
      "           5       0.28      0.30      0.29      1443\n",
      "           6       0.02      0.02      0.02       107\n",
      "           7       0.55      0.59      0.57      2659\n",
      "           8       0.41      0.44      0.42      2697\n",
      "           9       0.05      0.06      0.06       150\n",
      "          10       0.07      0.04      0.05        74\n",
      "          11       0.25      0.17      0.21        40\n",
      "          12       0.00      0.00      0.00        45\n",
      "          13       0.17      0.15      0.16       431\n",
      "          14       0.28      0.22      0.25       144\n",
      "          15       0.03      0.02      0.02        50\n",
      "          16       0.00      0.00      0.00        56\n",
      "          17       0.03      0.03      0.03        34\n",
      "          18       0.11      0.09      0.10       192\n",
      "          19       0.06      0.05      0.05       151\n",
      "          20       0.08      0.06      0.07       143\n",
      "          21       0.18      0.18      0.18      1045\n",
      "          22       0.23      0.16      0.19        93\n",
      "          23       0.21      0.14      0.17        81\n",
      "          24       0.06      0.05      0.05       309\n",
      "          25       0.00      0.00      0.00        20\n",
      "          26       0.45      0.35      0.40       200\n",
      "\n",
      "    accuracy                           0.34     10843\n",
      "   macro avg       0.14      0.13      0.13     10843\n",
      "weighted avg       0.33      0.34      0.33     10843\n",
      "\n"
     ]
    }
   ],
   "source": [
    "from sklearn.tree import DecisionTreeClassifier\n",
    "\n",
    "# Initialize and train Decision Tree model\n",
    "dt_model = DecisionTreeClassifier()\n",
    "dt_model.fit(X_train_tfidf, y_train)\n",
    "\n",
    "# Make predictions\n",
    "y_pred = dt_model.predict(X_test_tfidf)\n",
    "\n",
    "# Evaluate the model\n",
    "print(\"Accuracy:\", accuracy_score(y_test, y_pred))\n",
    "print(\"Classification Report:\\n\", classification_report(y_test, y_pred))\n"
   ]
  },
  {
   "cell_type": "code",
   "execution_count": 57,
   "id": "2d5f4338",
   "metadata": {},
   "outputs": [
    {
     "name": "stdout",
     "output_type": "stream",
     "text": [
      "Accuracy: 0.4660149405146177\n",
      "Classification Report:\n",
      "               precision    recall  f1-score   support\n",
      "\n",
      "           0       0.00      0.00      0.00       263\n",
      "           1       1.00      0.02      0.04       112\n",
      "           2       0.67      0.03      0.06       139\n",
      "           3       0.00      0.00      0.00       104\n",
      "           4       0.00      0.00      0.00        61\n",
      "           5       0.53      0.19      0.28      1443\n",
      "           6       0.00      0.00      0.00       107\n",
      "           7       0.53      0.90      0.67      2659\n",
      "           8       0.40      0.84      0.54      2697\n",
      "           9       1.00      0.03      0.05       150\n",
      "          10       0.00      0.00      0.00        74\n",
      "          11       1.00      0.12      0.22        40\n",
      "          12       0.00      0.00      0.00        45\n",
      "          13       0.90      0.02      0.04       431\n",
      "          14       1.00      0.05      0.09       144\n",
      "          15       0.00      0.00      0.00        50\n",
      "          16       0.00      0.00      0.00        56\n",
      "          17       0.00      0.00      0.00        34\n",
      "          18       0.00      0.00      0.00       192\n",
      "          19       0.00      0.00      0.00       151\n",
      "          20       0.00      0.00      0.00       143\n",
      "          21       0.76      0.03      0.05      1045\n",
      "          22       0.62      0.05      0.10        93\n",
      "          23       1.00      0.02      0.05        81\n",
      "          24       0.00      0.00      0.00       309\n",
      "          25       1.00      0.05      0.10        20\n",
      "          26       1.00      0.24      0.39       200\n",
      "\n",
      "    accuracy                           0.47     10843\n",
      "   macro avg       0.42      0.10      0.10     10843\n",
      "weighted avg       0.49      0.47      0.35     10843\n",
      "\n"
     ]
    },
    {
     "name": "stderr",
     "output_type": "stream",
     "text": [
      "c:\\users\\ramav\\appdata\\local\\programs\\python\\python37\\lib\\site-packages\\sklearn\\metrics\\_classification.py:1318: UndefinedMetricWarning: Precision and F-score are ill-defined and being set to 0.0 in labels with no predicted samples. Use `zero_division` parameter to control this behavior.\n",
      "  _warn_prf(average, modifier, msg_start, len(result))\n",
      "c:\\users\\ramav\\appdata\\local\\programs\\python\\python37\\lib\\site-packages\\sklearn\\metrics\\_classification.py:1318: UndefinedMetricWarning: Precision and F-score are ill-defined and being set to 0.0 in labels with no predicted samples. Use `zero_division` parameter to control this behavior.\n",
      "  _warn_prf(average, modifier, msg_start, len(result))\n",
      "c:\\users\\ramav\\appdata\\local\\programs\\python\\python37\\lib\\site-packages\\sklearn\\metrics\\_classification.py:1318: UndefinedMetricWarning: Precision and F-score are ill-defined and being set to 0.0 in labels with no predicted samples. Use `zero_division` parameter to control this behavior.\n",
      "  _warn_prf(average, modifier, msg_start, len(result))\n"
     ]
    }
   ],
   "source": [
    "from sklearn.ensemble import RandomForestClassifier\n",
    "\n",
    "# Initialize and train Random Forest model\n",
    "rf_model = RandomForestClassifier(n_estimators=100)\n",
    "rf_model.fit(X_train_tfidf, y_train)\n",
    "\n",
    "# Make predictions\n",
    "y_pred = rf_model.predict(X_test_tfidf)\n",
    "\n",
    "# Evaluate the model\n",
    "print(\"Accuracy:\", accuracy_score(y_test, y_pred))\n",
    "print(\"Classification Report:\\n\", classification_report(y_test, y_pred))\n"
   ]
  },
  {
   "cell_type": "code",
   "execution_count": 58,
   "id": "dc7ed139",
   "metadata": {},
   "outputs": [
    {
     "name": "stdout",
     "output_type": "stream",
     "text": [
      "Predicted Genre: drama\n"
     ]
    }
   ],
   "source": [
    "def predict_genre(movie_plot):\n",
    "    # Convert input text to TF-IDF vector\n",
    "    movie_plot_tfidf = tfidf_vectorizer.transform([movie_plot])\n",
    "    \n",
    "    # Predict using trained model\n",
    "    predicted_genre_encoded = nb_model.predict(movie_plot_tfidf)[0]\n",
    "    \n",
    "    # Convert encoded label back to original genre\n",
    "    predicted_genre = label_encoder.inverse_transform([predicted_genre_encoded])[0]\n",
    "    \n",
    "    return predicted_genre\n",
    "\n",
    "# Example Usage\n",
    "new_plot = \"A young wizard discovers his magical abilities and battles an evil dark lord to save the world.\"\n",
    "predicted_genre = predict_genre(new_plot)\n",
    "\n",
    "print(f\"Predicted Genre: {predicted_genre}\")\n"
   ]
  },
  {
   "cell_type": "code",
   "execution_count": null,
   "id": "1a73ef46",
   "metadata": {},
   "outputs": [],
   "source": []
  }
 ],
 "metadata": {
  "kernelspec": {
   "display_name": "Python 3 (ipykernel)",
   "language": "python",
   "name": "python3"
  },
  "language_info": {
   "codemirror_mode": {
    "name": "ipython",
    "version": 3
   },
   "file_extension": ".py",
   "mimetype": "text/x-python",
   "name": "python",
   "nbconvert_exporter": "python",
   "pygments_lexer": "ipython3",
   "version": "3.7.6"
  }
 },
 "nbformat": 4,
 "nbformat_minor": 5
}
